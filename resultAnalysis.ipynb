{
 "cells": [
  {
   "cell_type": "code",
   "execution_count": 36,
   "metadata": {},
   "outputs": [],
   "source": [
    "import numpy as np\n",
    "import matplotlib.pyplot as plt\n",
    "from sklearn.metrics import multilabel_confusion_matrix, accuracy_score\n",
    "from sklearn.preprocessing import MultiLabelBinarizer\n",
    "import os "
   ]
  },
  {
   "cell_type": "code",
   "execution_count": 37,
   "metadata": {},
   "outputs": [],
   "source": [
    "def extract_data(file_path):\n",
    "    data = []\n",
    "    with open(file_path, 'r') as file:\n",
    "        stop_reading = False\n",
    "        for line in file:\n",
    "            line = line.strip()\n",
    "            if line == '-------------------------------':\n",
    "                stop_reading = True\n",
    "                break\n",
    "\n",
    "            if line:\n",
    "                line_parts = line.split('\\t||\\t')\n",
    "                folder_index = line_parts[0].split(': ')[1]\n",
    "                category = line_parts[1].split(': ')[1]\n",
    "                try:\n",
    "                    classification_list = eval(line_parts[2].split(': ')[1])\n",
    "                except:\n",
    "                    classification_list = []\n",
    "\n",
    "                item = {\n",
    "                    'Folder Index': folder_index,\n",
    "                    'Category': category,\n",
    "                    'Classification List': classification_list\n",
    "                }\n",
    "                data.append(item)\n",
    "    return data\n",
    "\n",
    "def analyze_results(data):\n",
    "    true_labels = []\n",
    "    predicted_labels = []\n",
    "    for item in data:\n",
    "        category = item['Category']\n",
    "        classification_list = item['Classification List']\n",
    "        true_labels.append(category)\n",
    "        predicted_labels.append(classification_list)\n",
    "\n",
    "    # Create multilabel binarizer\n",
    "    mlb = MultiLabelBinarizer(classes=np.unique(true_labels))\n",
    "    true_labels = mlb.fit_transform(true_labels)\n",
    "    predicted_labels = mlb.transform(predicted_labels)\n",
    "    # Calculate categorical accuracy\n",
    "    categorical_accuracy = accuracy_score(true_labels, predicted_labels) * 100\n",
    "    # Create confusion matrix\n",
    "    mult_confusion_mat = multilabel_confusion_matrix(true_labels, predicted_labels)\n",
    "\n",
    "    return categorical_accuracy, mult_confusion_mat \n",
    "\n",
    "def accuracy_of(data):\n",
    "    correct_predictions = 0\n",
    "    total_predictions = len(data)\n",
    "\n",
    "    for item in data:\n",
    "        category = item['Category']\n",
    "        classification_list = item['Classification List']\n",
    "\n",
    "        if category in classification_list:\n",
    "            correct_predictions += 1\n",
    "\n",
    "    accuracy = (correct_predictions / total_predictions) * 100\n",
    "\n",
    "    return accuracy\n",
    "\n",
    "def calculate_f1_scores(confusion_matrix):\n",
    "    num_labels = confusion_matrix.shape[0]\n",
    "    f1_scores = []\n",
    "\n",
    "    for label in range(num_labels):\n",
    "        true_positives = confusion_matrix[label, 1, 1]\n",
    "        false_positives = confusion_matrix[label, 0, 1]\n",
    "        false_negatives = confusion_matrix[label, 1, 0]\n",
    "\n",
    "        precision = true_positives / (true_positives + false_positives)\n",
    "        recall = true_positives / (true_positives + false_negatives)\n",
    "\n",
    "        f1_score = 2 * (precision * recall) / (precision + recall)\n",
    "        f1_scores.append(f1_score)\n",
    "\n",
    "    return f1_scores"
   ]
  },
  {
   "cell_type": "code",
   "execution_count": 38,
   "metadata": {},
   "outputs": [
    {
     "data": {
      "text/plain": [
       "<generator object <genexpr> at 0x000001AEAEF28CF0>"
      ]
     },
     "execution_count": 38,
     "metadata": {},
     "output_type": "execute_result"
    }
   ],
   "source": [
    "file_path = 'codes_spaceless_conversations_without_none.txt'  \n",
    "result = extract_data(file_path)\n",
    "(print(r) for r in result)"
   ]
  },
  {
   "cell_type": "code",
   "execution_count": 39,
   "metadata": {},
   "outputs": [
    {
     "data": {
      "text/plain": [
       "2.7027027027027026"
      ]
     },
     "execution_count": 39,
     "metadata": {},
     "output_type": "execute_result"
    }
   ],
   "source": [
    "accuracy_of(result)"
   ]
  },
  {
   "cell_type": "code",
   "execution_count": 40,
   "metadata": {},
   "outputs": [
    {
     "name": "stdout",
     "output_type": "stream",
     "text": [
      "Categorical Accuracy: 65.4054054054054%\n",
      "Multilabel Confusion Matrix:\n",
      "[[[185   0]\n",
      "  [  0   0]]\n",
      "\n",
      " [[185   0]\n",
      "  [  0   0]]\n",
      "\n",
      " [[183   2]\n",
      "  [  0   0]]\n",
      "\n",
      " [[183   2]\n",
      "  [  0   0]]\n",
      "\n",
      " [[185   0]\n",
      "  [  0   0]]\n",
      "\n",
      " [[183   2]\n",
      "  [  0   0]]\n",
      "\n",
      " [[173  12]\n",
      "  [  0   0]]\n",
      "\n",
      " [[174  11]\n",
      "  [  0   0]]\n",
      "\n",
      " [[185   0]\n",
      "  [  0   0]]\n",
      "\n",
      " [[180   5]\n",
      "  [  0   0]]\n",
      "\n",
      " [[184   1]\n",
      "  [  0   0]]\n",
      "\n",
      " [[185   0]\n",
      "  [  0   0]]\n",
      "\n",
      " [[185   0]\n",
      "  [  0   0]]\n",
      "\n",
      " [[185   0]\n",
      "  [  0   0]]\n",
      "\n",
      " [[185   0]\n",
      "  [  0   0]]\n",
      "\n",
      " [[161  24]\n",
      "  [  0   0]]\n",
      "\n",
      " [[183   2]\n",
      "  [  0   0]]\n",
      "\n",
      " [[182   3]\n",
      "  [  0   0]]\n",
      "\n",
      " [[184   1]\n",
      "  [  0   0]]\n",
      "\n",
      " [[183   2]\n",
      "  [  0   0]]\n",
      "\n",
      " [[184   1]\n",
      "  [  0   0]]\n",
      "\n",
      " [[184   1]\n",
      "  [  0   0]]\n",
      "\n",
      " [[184   1]\n",
      "  [  0   0]]\n",
      "\n",
      " [[184   1]\n",
      "  [  0   0]]\n",
      "\n",
      " [[183   2]\n",
      "  [  0   0]]\n",
      "\n",
      " [[185   0]\n",
      "  [  0   0]]\n",
      "\n",
      " [[184   1]\n",
      "  [  0   0]]\n",
      "\n",
      " [[185   0]\n",
      "  [  0   0]]\n",
      "\n",
      " [[185   0]\n",
      "  [  0   0]]\n",
      "\n",
      " [[185   0]\n",
      "  [  0   0]]\n",
      "\n",
      " [[173  12]\n",
      "  [  0   0]]\n",
      "\n",
      " [[185   0]\n",
      "  [  0   0]]]\n"
     ]
    },
    {
     "name": "stderr",
     "output_type": "stream",
     "text": [
      "c:\\Users\\duman\\Miniconda3\\envs\\Sci\\lib\\site-packages\\sklearn\\preprocessing\\_label.py:994: UserWarning: unknown class(es) [' ', '-', '/', 'D', 'E', 'F', 'G', 'I', 'L', 'M', 'O', 'P', 'R', 'S', 'T', 'U', 'V', 'a', 'b', 'c', 'd', 'e', 'f', 'g', 'h', 'i', 'k', 'l', 'm', 'n', 'o', 'p', 'q', 'r', 's', 't', 'u', 'v', 'w', 'x', 'y', 'z'] will be ignored\n",
      "  warnings.warn('unknown class(es) {0} will be ignored'\n",
      "c:\\Users\\duman\\Miniconda3\\envs\\Sci\\lib\\site-packages\\sklearn\\preprocessing\\_label.py:994: UserWarning: unknown class(es) ['Inefficient process communication', 'Inefficient task parallelism', 'Inefficient thread mapping / inefficient block size / Load imbalance', 'Insufficient parallelism', 'Insufficient parallelization', 'No inefficiencies in the code', 'No inefficiency', 'No inefficiency issue', 'No inefficiency problem', 'No inefficiency problem is present in the code', 'None', \"None The provided source code seems to be a utility function for splitting a dataset into training and test sets There doesn't seem to be any inefficiency problem in this code snippet\", 'None This is a header file with function declarations and preprocessor directives but no executable code Classification is not meaningful in this context', 'Parallelization inefficiency', 'Small Parallel Region', 'Small parallel region', 'Unncessary comment', 'Unncessary function call', 'Unncessary operation/traversal/function call', 'Unncessary process communication', 'Unnecessary Compilation Check', 'Unnecessary Mathematical Operation', 'Unnecessary boundary condition check', 'Unnecessary conditional statement', 'Unnecessary data copy', 'Unnecessary function call', 'Unnecessary headers', 'Unnecessary memory allocation', 'Unnecessary use of stable_sort_by_key function', 'insufficient parallelism', 'unnecessary function call', 'vector/SIMD parallelism'] will be ignored\n",
      "  warnings.warn('unknown class(es) {0} will be ignored'\n"
     ]
    }
   ],
   "source": [
    "categorical_accuracy, confusion_matrix = analyze_results(result)\n",
    "print(f\"Categorical Accuracy: {categorical_accuracy}%\")\n",
    "print(\"Multilabel Confusion Matrix:\")\n",
    "print(confusion_matrix)"
   ]
  },
  {
   "cell_type": "code",
   "execution_count": 41,
   "metadata": {},
   "outputs": [],
   "source": [
    "logfiles = [f for f in os.listdir() if '.txt' in f]"
   ]
  },
  {
   "cell_type": "code",
   "execution_count": 42,
   "metadata": {},
   "outputs": [
    {
     "name": "stdout",
     "output_type": "stream",
     "text": [
      "codes_conversations_without_none.txt\n",
      "codes_conversations_with_none.txt\n",
      "codes_preprocessed_conversations_without_none.txt\n",
      "codes_preprocessed_conversations_with_none.txt\n",
      "codes_spaceless_conversations_without_none.txt\n",
      "codes_spaceless_conversations_with_none.txt\n"
     ]
    },
    {
     "name": "stderr",
     "output_type": "stream",
     "text": [
      "c:\\Users\\duman\\Miniconda3\\envs\\Sci\\lib\\site-packages\\sklearn\\preprocessing\\_label.py:994: UserWarning: unknown class(es) ['Inefficiency due to new compiler version', 'Inefficient synchronization', 'Inefficient thread mapping / inefficient block size / Load imbalance', 'Inefficient use of parallelism', 'Insufficient parallelization', 'Lack of parallelism', 'No inefficiency', 'No inefficiency detected', 'No inefficiency found', 'No inefficiency issue', 'No inefficiency problem', 'No inefficiency problem found', 'None', \"None - the provided source code is a configuration file and doesn't contain compute-intensive operations that can cause inefficiencies\", 'None The code appears to be a simple class implementation and does not contain any apparent inefficiency problem', 'Small parallel region', 'Task Parallelism', 'Unncessary data copy', 'Unncessary operation/traversal/function call', 'Unncessary process communiction', 'Unnecessary memory allocation', 'no inefficiency problem', 'none (Header file)'] will be ignored\n",
      "  warnings.warn('unknown class(es) {0} will be ignored'\n",
      "c:\\Users\\duman\\Miniconda3\\envs\\Sci\\lib\\site-packages\\sklearn\\preprocessing\\_label.py:994: UserWarning: unknown class(es) ['Inefficiency due to new compiler version', 'Inefficient loop due to lack of data locality', 'Inefficient thread mapping / inefficient block size / Load imbalance', 'None', 'Task Parallelism', 'Unnecessary compiler version inefficiency', 'micro-architectural inefficiency', 'potential inefficiency This code performs sorting using parallelism However, this code could be inefficient for handling a small amount of data Since the computation of the key range is expensive for small datasets, the program uses a different sort algorithm for small amounts of data However, this may not be the optimal approach for even smaller data sizes Further analysis may be needed to determine the size that requires different treatment'] will be ignored\n",
      "  warnings.warn('unknown class(es) {0} will be ignored'\n",
      "c:\\Users\\duman\\Miniconda3\\envs\\Sci\\lib\\site-packages\\sklearn\\preprocessing\\_label.py:994: UserWarning: unknown class(es) ['Data Locality', 'Incorrect block/thread mapping', 'Inefficiency due to new compiler version', 'Inefficient task parallelism', 'Inefficient thread mapping / inefficient block size / Load imbalance', 'Insufficient parallelism', 'Insufficient parallelization', 'Lack of information The code is merely a header file with declarations of classes and methods, and no implementation Therefore, it is not possible to determine whether there are any inefficiency issues with this code without the rest of the program', 'Lack of vectorization/SIMD parallelism', 'Load imbalance', 'Missing Information', 'Missing Information The code snippet is simply a header file for a linear least squares fitting algorithm, but it contains no information about the input data, the expected behavior, or any performance issues', 'No inefficiency', 'No inefficiency problem', 'No inefficiency problem detected', 'None', 'Small Parallel Region', 'Small parallel region', 'Unncessary function call', 'Unncessary operation/traversal/function call', 'Unncessary process communiction', 'Unnecessary comments', 'Unnecessary data copy', 'Unnecessary function call', 'Unnecessary header files', 'Unnecessary memory access', 'Unnecessary memory allocation', 'Unnecessary process communication', 'Unnecessary repeated memory allocation', 'Unnecessary template specialization', 'Unnecessary use of large header files', 'Unused Functionality', 'Vector/SIMD Parallelism', 'inefficient thread mapping / inefficient block size / Load imbalance', 'memory allocation', 'memory allocation inefficiency', 'under-parallelization'] will be ignored\n",
      "  warnings.warn('unknown class(es) {0} will be ignored'\n",
      "c:\\Users\\duman\\Miniconda3\\envs\\Sci\\lib\\site-packages\\sklearn\\preprocessing\\_label.py:994: UserWarning: unknown class(es) ['Inefficiency due to new compiler version', 'Inefficient loop unrolling', 'Inefficient thread', 'Inefficient thread mapping / inefficient block size / Load imbalance', 'Load imbalance', 'Memory/Data locality The constant array d_ref_pat is declared and initialized in global memory, which may lead to slower memory access compared to if it were declared and initialized in shared memory This may cause a decrease in the performance of the program due to decreased memory locality', 'Micro-architectural inefficiency The code has a lot of SSE instructions for dot product calculation This could be optimized and use AVX instructions instead that could improve the overall performance', 'Micro-architectural inefficiency This code uses inline assembly, which can make the code harder to maintain, and the use of vectors can cause an inefficiency problem due to potential underutilization of AVX units', 'None', 'Sequential I/O operation', 'Unnecessary', 'Unnecessary conditional check and function call in the SMP block of code', 'Unnecessary header inclusion', 'Unnecessary memory allocation \\n\\nThe \"ind\" array is allocated in every iteration of the loop in the function PrunedRowsCreate It would be more efficient to allocate a maximum size of \"count\" at the beginning of each iteration and then reallocate memory if necessary', \"Unnecessary memory allocation The function creates a new Array object using the 'createRefArray' function and then deletes it at the end of the function using the 'delete' keyword However, the object could be passed by reference rather than creating and deleting it at each invocation\", 'Unnecessary operation', 'Unnecessary print statement', 'inefficiency due to new compiler version', 'memory locality'] will be ignored\n",
      "  warnings.warn('unknown class(es) {0} will be ignored'\n",
      "c:\\Users\\duman\\Miniconda3\\envs\\Sci\\lib\\site-packages\\sklearn\\preprocessing\\_label.py:994: UserWarning: unknown class(es) ['Inefficiency due to new compiler version', 'Inefficient Block Size', 'Inefficient instruction level parallelism', 'Inefficient thread mapping / inefficient block size / Load imbalance', 'Micro-architectural inefficiency The code uses stable_sort_by_key to sort the array, which has higher overhead compared to simple sort This can be inefficient when sorting large arrays', 'None', 'Under-parallelization The kernel function is only launched with a single thread block, which means that it is not making full use of the available compute resources on the GPU', 'Unncessary function call', 'Unnecessarily large memory allocation', 'Unnecessary code specialization', 'Unnecessary thread synchronization', 'Unoptimized Communication & Parallelization', 'micro-architectural inefficiency'] will be ignored\n",
      "  warnings.warn('unknown class(es) {0} will be ignored'\n"
     ]
    }
   ],
   "source": [
    "tot_accs = []\n",
    "cat_accs = []\n",
    "con_mats = []\n",
    "for f_name in logfiles:\n",
    "    print(f_name)\n",
    "    result = extract_data(f_name)\n",
    "    tot_accs.append(accuracy_of(result))\n",
    "    categorical_accuracy, confusion_matrix = analyze_results(result)\n",
    "    cat_accs.append(categorical_accuracy)\n",
    "    con_mats.append(confusion_matrix)"
   ]
  },
  {
   "cell_type": "code",
   "execution_count": 43,
   "metadata": {},
   "outputs": [],
   "source": [
    "labels = [\"with_none\", \"without_none\", \"preprocessed_with_none\", \"preprocessed_without_none\", \"spaceless_with_none\", \"spaceless_without_none\"]"
   ]
  },
  {
   "cell_type": "code",
   "execution_count": 44,
   "metadata": {},
   "outputs": [
    {
     "data": {
      "image/png": "[encoded data removed]",
      "text/plain": [
       "<Figure size 720x720 with 1 Axes>"
      ]
     },
     "metadata": {
      "needs_background": "light"
     },
     "output_type": "display_data"
    }
   ],
   "source": [
    "bar_width = 0.35\n",
    "\n",
    "# Set the positions of the x-axis ticks\n",
    "x_pos = np.arange(len(labels))\n",
    "\n",
    "fig, ax = plt.subplots(figsize=(10,10))\n",
    "tot_accs_bar = ax.bar(x_pos, tot_accs, bar_width, label='Total Accuracy')\n",
    "cat_accs_bar = ax.bar(x_pos + bar_width, cat_accs, bar_width, label='Category Accuracy')\n",
    "\n",
    "# Set the labels and title\n",
    "ax.set_xlabel('Labels')\n",
    "ax.set_ylabel('Accuracy')\n",
    "ax.set_title('Accuracy Comparison by Labels')\n",
    "ax.set_xticks(x_pos + bar_width / 2)\n",
    "ax.set_xticklabels(labels, rotation=45)  # Rotate labels by 45 degrees\n",
    "ax.legend()\n",
    "\n",
    "# Display the plot\n",
    "plt.tight_layout()  # Adjust the layout to prevent label overlapping\n",
    "plt.show()\n",
    "\n",
    "\n"
   ]
  },
  {
   "cell_type": "code",
   "execution_count": 45,
   "metadata": {},
   "outputs": [
    {
     "name": "stderr",
     "output_type": "stream",
     "text": [
      "<ipython-input-37-9a8269f27bad>:72: RuntimeWarning: invalid value encountered in longlong_scalars\n",
      "  precision = true_positives / (true_positives + false_positives)\n",
      "<ipython-input-37-9a8269f27bad>:73: RuntimeWarning: invalid value encountered in longlong_scalars\n",
      "  recall = true_positives / (true_positives + false_negatives)\n"
     ]
    }
   ],
   "source": [
    "f1s = []\n",
    "for i in range(len(con_mats)):\n",
    "    f1s.append(calculate_f1_scores(con_mats[i]))"
   ]
  }
 ],
 "metadata": {
  "kernelspec": {
   "display_name": "Sci",
   "language": "python",
   "name": "python3"
  },
  "language_info": {
   "codemirror_mode": {
    "name": "ipython",
    "version": 3
   },
   "file_extension": ".py",
   "mimetype": "text/x-python",
   "name": "python",
   "nbconvert_exporter": "python",
   "pygments_lexer": "ipython3",
   "version": "3.8.0"
  },
  "orig_nbformat": 4
 },
 "nbformat": 4,
 "nbformat_minor": 2
}
